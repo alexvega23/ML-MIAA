{
 "cells": [
  {
   "cell_type": "markdown",
   "metadata": {},
   "source": [
    "# OCR y expresiones regulares para facturas de droguerías de Liberty"
   ]
  },
  {
   "cell_type": "markdown",
   "metadata": {},
   "source": [
    "En este notebook haremos un análisis de expresiones regulares del texto de las facturas de cobro que le llegan a Liberty Seguros Colombia. Inicialmente, las imágenes de estas facturas se convierten a texto utilizando la librería pytesseract de python."
   ]
  },
  {
   "cell_type": "code",
   "execution_count": 1,
   "metadata": {},
   "outputs": [],
   "source": [
    "from PIL import Image"
   ]
  },
  {
   "cell_type": "code",
   "execution_count": 2,
   "metadata": {},
   "outputs": [],
   "source": [
    "import pytesseract\n",
    "import sys\n",
    "from pdf2image import convert_from_path\n",
    "import io\n",
    "from wand.image import Image as wi"
   ]
  },
  {
   "cell_type": "code",
   "execution_count": 3,
   "metadata": {},
   "outputs": [],
   "source": [
    "#path of the pdf\n",
    "pdf=wi(filename=\"C:/ejemplo/dropopular2.pdf\", resolution=300)"
   ]
  },
  {
   "cell_type": "code",
   "execution_count": 4,
   "metadata": {},
   "outputs": [],
   "source": [
    "pdfImage=pdf.convert('jpeg')"
   ]
  },
  {
   "cell_type": "code",
   "execution_count": 5,
   "metadata": {},
   "outputs": [],
   "source": [
    "imageBlobs=[]"
   ]
  },
  {
   "cell_type": "code",
   "execution_count": 6,
   "metadata": {},
   "outputs": [],
   "source": [
    "for img in pdfImage.sequence:\n",
    "    imgPage=wi(image=img)\n",
    "    imageBlobs.append(imgPage.make_blob('jpeg'))"
   ]
  },
  {
   "cell_type": "code",
   "execution_count": 7,
   "metadata": {},
   "outputs": [],
   "source": [
    "recognized_text=[]"
   ]
  },
  {
   "cell_type": "code",
   "execution_count": 8,
   "metadata": {},
   "outputs": [],
   "source": [
    "pytesseract.pytesseract.tesseract_cmd = r'C:\\tesseract\\tesseract.exe'"
   ]
  },
  {
   "cell_type": "code",
   "execution_count": 9,
   "metadata": {},
   "outputs": [],
   "source": [
    "for imgBlob in imageBlobs:\n",
    "    im=Image.open(io.BytesIO(imgBlob))\n",
    "    text=pytesseract.image_to_string(im, lang='spa')\n",
    "    recognized_text.append(text)"
   ]
  },
  {
   "cell_type": "code",
   "execution_count": 10,
   "metadata": {},
   "outputs": [
    {
     "name": "stdout",
     "output_type": "stream",
     "text": [
      "['UROFOPULAR 5.4,\\nNit: 9209221131\\nEOTICA JUNIN LA PLAYA X SUCRE\\nCLL 31 66-57\\nTEL: 5127422\\nFACTURA DE VENTA: ORIGINAL - FACTURADA\\ndec_operí 408250 Factura Nos 0411 315178\\nFechas 01/03/2019 12:30:13\\nCajero: VALENTINA MONTOYA RETANCUR\\nCaja: CAJA 0011\\n\\n092058 —— LIMIMENTO FORZ SPORT SPRAY FC\\n0 X 200 HL(X)\\n\\n1422,840,.00 $27,840.00\\n\\n194576 —— FLEXIMAX ACE 325 MG+4 MG CAJA\\nX 14 TAB REC\\n\\n40F55,055.71 D30% $202,229.00\\n\\n261257 —— FENALGEX 323 HG*3 MG CAJA X 1\\n0 TAR\\n\\n30F49,414,27 830% $132,427,00\\n3 Unidades: 10\\nSublotal ; $337,497.13\\nDescuento total: -$100,397.13\\nTotal IVA : $4,337.60\\n(Valor a pagar 105 $261,437,60\\nDocumento de pago Total.\\nCREBITOS $261,439.60.\\nTotalzós $261,437.60\\nTR Base Iva(s)\\n6,09 5234,260,00 ¿0.00\\n19,00 22,040.00 $4,339.40\\nTotal: $237,100,00 $4,339.60\\n\\nNit/Códuls: 260008043-7\\nfseguradora: LIBERTY — SEGUROS DE VIDA S\\n«A.\\nPlan: ETBERTY SEGUROS BE VIDA 5.4,\\nCOD. AUTORIZACION: 393446-1939337\\nAUTORIZO: LEIDY FORERO\\nJOSE LUIS RAMIREZ MONCADA\\nloci CO, 33595414\\n1,SA8N ANTONIO - MEDELL=\\nTelffonos 3217438992\\n\\n    \\n \\n\\nCE 3S3SSS UY ly\\nAN\\n\\nele LS\\n\\n   \\n\\n \\n \\n\\nTODE METON=*Aerdeavatepeénnaid cra', '—\\n\\n \\n\\n, A CLINICA DE FRACTURAS DE MEDELLIN S.A.S\\n: Nit: 890,934.747-0\\n\\nGilínica de\\nFracturas cía\\n\\nMedellin - ORDEN MEDICAMENTOS P.O.S\\n\\n| Nombre; | RAMIREZ MONCADA JOSE 101587 a]\\n443764 a\\nLIBERTY SEGUROS DE VIDA S.A. (\\n\\nBULATORIA\\n\\nObservaciones: LINIMENTO DEPORTIVO FRASCO SPRAY 200 G CANT 2\\nAPLICAR DOS VECES AL DIA EN SITIO DE DOLOR POR 2 MESES\\n\\nFLEXIMAX ACE TIOCOLCHICOSIDO + ACETAMNOFEN TABLETA 325MG +4MG CANT 120\\nTOMAR UNA TABLETA EN LA MAÑANA Y UNA EN LA TARDE POR 3 MESES\\n\\nFENALGEX ACETAMINOFEN + HIDROCODONA TABLETA 325-5 MG CANT 60\\nTOMAR UNA TABLETA CADA NOCHE POR 2 MESES\\n\\n“e\\n\\nClínica de\\nFracturas de\\n\\nMedellín\\n\\nHowirnlemes es vista\\n\\nNIT. 390,934,747-0\\n\\nMedico:;CUEVAS MENDOZA HUGO\\nPirma usuario: ALEJANDRO\\n\\nA A\\nCedula:\\n\\nPagina: 1 de 1 Cedula: 13.723.649.\\nImprime: ARESTR Registro: 11152-2003\\n\\nFecha Sistema:01/03/2019\\nHora:11:35:0D7\\n\\nPinos E a.\\n(oa 573 46931337\\n\\n> AN AOS lay Forero\\n\\nFoto\" Ll es ec3355Y/y\\n311903 9P92', '1 A-0100105-43 158008-M-Q0U03255414:20070419 04734071094 02 218037080\\n\\n \\n\\n \\n\\nA AA\\nA - a _ > \"\\n\\n \\n\\n \\n \\n \\n\\nle *\\n\\n   \\n \\n\\n\\'BLICA DE COLOMBIA\\nE NTIFICACION PERSONAL\\nCEDULA DE CIUDADANIA *\\n\\n«NUMERO 3.355.414 -\\n\\n“* RAMIREZ MONCADA *\\n\\n \\n\\n \\n \\n \\n\\n  \\n\\nE ÓN\\n\\n  \\n       \\n   \\n   \\n\\nFecma De nacimiento 04-SEP-1958 .\\nITAGUL +\\n\\n(ANTIOQUIA) *\\n\\nLUGAR DE NACIMIENTO\\n\\n1.68 A+ M\\n\\nESTATURA 6.5. AH SEXO M\\n\\n \\n\\n13.0C0T-1977 MEDELLIN\\nFECHA Y LUGAR DE EXPEDICION A\\nREG!\\nAida']\n"
     ]
    }
   ],
   "source": [
    "print(recognized_text)"
   ]
  },
  {
   "cell_type": "code",
   "execution_count": 11,
   "metadata": {},
   "outputs": [],
   "source": [
    "import re"
   ]
  },
  {
   "cell_type": "code",
   "execution_count": 12,
   "metadata": {},
   "outputs": [],
   "source": [
    "str1 = ''.join(recognized_text)"
   ]
  },
  {
   "cell_type": "code",
   "execution_count": 13,
   "metadata": {},
   "outputs": [
    {
     "data": {
      "text/plain": [
       "'UROFOPULAR 5.4,\\nNit: 9209221131\\nEOTICA JUNIN LA PLAYA X SUCRE\\nCLL 31 66-57\\nTEL: 5127422\\nFACTURA DE VENTA: ORIGINAL - FACTURADA\\ndec_operí 408250 Factura Nos 0411 315178\\nFechas 01/03/2019 12:30:13\\nCajero: VALENTINA MONTOYA RETANCUR\\nCaja: CAJA 0011\\n\\n092058 —— LIMIMENTO FORZ SPORT SPRAY FC\\n0 X 200 HL(X)\\n\\n1422,840,.00 $27,840.00\\n\\n194576 —— FLEXIMAX ACE 325 MG+4 MG CAJA\\nX 14 TAB REC\\n\\n40F55,055.71 D30% $202,229.00\\n\\n261257 —— FENALGEX 323 HG*3 MG CAJA X 1\\n0 TAR\\n\\n30F49,414,27 830% $132,427,00\\n3 Unidades: 10\\nSublotal ; $337,497.13\\nDescuento total: -$100,397.13\\nTotal IVA : $4,337.60\\n(Valor a pagar 105 $261,437,60\\nDocumento de pago Total.\\nCREBITOS $261,439.60.\\nTotalzós $261,437.60\\nTR Base Iva(s)\\n6,09 5234,260,00 ¿0.00\\n19,00 22,040.00 $4,339.40\\nTotal: $237,100,00 $4,339.60\\n\\nNit/Códuls: 260008043-7\\nfseguradora: LIBERTY — SEGUROS DE VIDA S\\n«A.\\nPlan: ETBERTY SEGUROS BE VIDA 5.4,\\nCOD. AUTORIZACION: 393446-1939337\\nAUTORIZO: LEIDY FORERO\\nJOSE LUIS RAMIREZ MONCADA\\nloci CO, 33595414\\n1,SA8N ANTONIO - MEDELL=\\nTelffonos 3217438992\\n\\n    \\n \\n\\nCE 3S3SSS UY ly\\nAN\\n\\nele LS\\n\\n   \\n\\n \\n \\n\\nTODE METON=*Aerdeavatepeénnaid cra—\\n\\n \\n\\n, A CLINICA DE FRACTURAS DE MEDELLIN S.A.S\\n: Nit: 890,934.747-0\\n\\nGilínica de\\nFracturas cía\\n\\nMedellin - ORDEN MEDICAMENTOS P.O.S\\n\\n| Nombre; | RAMIREZ MONCADA JOSE 101587 a]\\n443764 a\\nLIBERTY SEGUROS DE VIDA S.A. (\\n\\nBULATORIA\\n\\nObservaciones: LINIMENTO DEPORTIVO FRASCO SPRAY 200 G CANT 2\\nAPLICAR DOS VECES AL DIA EN SITIO DE DOLOR POR 2 MESES\\n\\nFLEXIMAX ACE TIOCOLCHICOSIDO + ACETAMNOFEN TABLETA 325MG +4MG CANT 120\\nTOMAR UNA TABLETA EN LA MAÑANA Y UNA EN LA TARDE POR 3 MESES\\n\\nFENALGEX ACETAMINOFEN + HIDROCODONA TABLETA 325-5 MG CANT 60\\nTOMAR UNA TABLETA CADA NOCHE POR 2 MESES\\n\\n“e\\n\\nClínica de\\nFracturas de\\n\\nMedellín\\n\\nHowirnlemes es vista\\n\\nNIT. 390,934,747-0\\n\\nMedico:;CUEVAS MENDOZA HUGO\\nPirma usuario: ALEJANDRO\\n\\nA A\\nCedula:\\n\\nPagina: 1 de 1 Cedula: 13.723.649.\\nImprime: ARESTR Registro: 11152-2003\\n\\nFecha Sistema:01/03/2019\\nHora:11:35:0D7\\n\\nPinos E a.\\n(oa 573 46931337\\n\\n> AN AOS lay Forero\\n\\nFoto\" Ll es ec3355Y/y\\n311903 9P921 A-0100105-43 158008-M-Q0U03255414:20070419 04734071094 02 218037080\\n\\n \\n\\n \\n\\nA AA\\nA - a _ > \"\\n\\n \\n\\n \\n \\n \\n\\nle *\\n\\n   \\n \\n\\n\\'BLICA DE COLOMBIA\\nE NTIFICACION PERSONAL\\nCEDULA DE CIUDADANIA *\\n\\n«NUMERO 3.355.414 -\\n\\n“* RAMIREZ MONCADA *\\n\\n \\n\\n \\n \\n \\n\\n  \\n\\nE ÓN\\n\\n  \\n       \\n   \\n   \\n\\nFecma De nacimiento 04-SEP-1958 .\\nITAGUL +\\n\\n(ANTIOQUIA) *\\n\\nLUGAR DE NACIMIENTO\\n\\n1.68 A+ M\\n\\nESTATURA 6.5. AH SEXO M\\n\\n \\n\\n13.0C0T-1977 MEDELLIN\\nFECHA Y LUGAR DE EXPEDICION A\\nREG!\\nAida'"
      ]
     },
     "execution_count": 13,
     "metadata": {},
     "output_type": "execute_result"
    }
   ],
   "source": [
    "str1"
   ]
  },
  {
   "cell_type": "code",
   "execution_count": 14,
   "metadata": {},
   "outputs": [],
   "source": [
    "nit = re.compile(r'\\bNit\\:\\ \\d{1,10}\\b')"
   ]
  },
  {
   "cell_type": "code",
   "execution_count": 15,
   "metadata": {},
   "outputs": [
    {
     "data": {
      "text/plain": [
       "['Nit: 9209221131', 'Nit: 890']"
      ]
     },
     "execution_count": 15,
     "metadata": {},
     "output_type": "execute_result"
    }
   ],
   "source": [
    "nit.findall(str1) "
   ]
  },
  {
   "cell_type": "code",
   "execution_count": 214,
   "metadata": {},
   "outputs": [
    {
     "data": {
      "text/plain": [
       "'Nit: 9209221131'"
      ]
     },
     "execution_count": 214,
     "metadata": {},
     "output_type": "execute_result"
    }
   ],
   "source": [
    "m=nit.findall(str1)[0]\n",
    "m"
   ]
  },
  {
   "cell_type": "code",
   "execution_count": 17,
   "metadata": {},
   "outputs": [
    {
     "data": {
      "text/plain": [
       "'EOTICA JUNIN LA PLAYA X SUCRE'"
      ]
     },
     "execution_count": 17,
     "metadata": {},
     "output_type": "execute_result"
    }
   ],
   "source": [
    "nombre_droguería=re.search(r'\\n(.*?)\\nCLL',str1).group(1)\n",
    "nombre_droguería"
   ]
  },
  {
   "cell_type": "code",
   "execution_count": 18,
   "metadata": {},
   "outputs": [],
   "source": [
    "tipo_de_identificación_drogueria=\"NIT\""
   ]
  },
  {
   "cell_type": "code",
   "execution_count": 19,
   "metadata": {},
   "outputs": [
    {
     "data": {
      "text/plain": [
       "'NUMERO 3.355.414 -'"
      ]
     },
     "execution_count": 19,
     "metadata": {},
     "output_type": "execute_result"
    }
   ],
   "source": [
    "cedula_ = re.compile(r'\\bNUMERO\\ \\d{1}\\.\\d{1,3}\\.\\d{1,3}[\\ \\.][\\-\\d{1,3}\\n]') \n",
    "cedula__=cedula_.findall(str1)[0]\n",
    "cedula__"
   ]
  },
  {
   "cell_type": "code",
   "execution_count": 20,
   "metadata": {},
   "outputs": [
    {
     "data": {
      "text/plain": [
       "'3.355.414'"
      ]
     },
     "execution_count": 20,
     "metadata": {},
     "output_type": "execute_result"
    }
   ],
   "source": [
    "cedula = re.search(r'\\ (.*?)\\ ',cedula__).group(1)\n",
    "cedula"
   ]
  },
  {
   "cell_type": "code",
   "execution_count": 21,
   "metadata": {},
   "outputs": [],
   "source": [
    "tipo_de_identificacion_paciente=\"Cedula\""
   ]
  },
  {
   "cell_type": "code",
   "execution_count": 22,
   "metadata": {},
   "outputs": [],
   "source": [
    "nombre_paciente_=re.compile(r'\\bNombre[\\;\\.]\\ \\|\\ \\w+\\ \\w+\\ \\w+\\ \\w+\\ ')"
   ]
  },
  {
   "cell_type": "code",
   "execution_count": 187,
   "metadata": {},
   "outputs": [
    {
     "data": {
      "text/plain": [
       "'Nombre; | RAMIREZ MONCADA JOSE 101587 '"
      ]
     },
     "execution_count": 187,
     "metadata": {},
     "output_type": "execute_result"
    }
   ],
   "source": [
    "nombre_paciente__=nombre_paciente_.findall(str1)[0]\n",
    "nombre_paciente__"
   ]
  },
  {
   "cell_type": "code",
   "execution_count": 200,
   "metadata": {},
   "outputs": [
    {
     "data": {
      "text/plain": [
       "'RAMIREZ'"
      ]
     },
     "execution_count": 200,
     "metadata": {},
     "output_type": "execute_result"
    }
   ],
   "source": [
    "primer_apellido=re.search(r'\\| (.*?) ', nombre_paciente__).group(1)\n",
    "primer_apellido"
   ]
  },
  {
   "cell_type": "code",
   "execution_count": 201,
   "metadata": {},
   "outputs": [
    {
     "data": {
      "text/plain": [
       "'MONCADA'"
      ]
     },
     "execution_count": 201,
     "metadata": {},
     "output_type": "execute_result"
    }
   ],
   "source": [
    "segundo_apellido=re.search(r'\\| \\w+\\ (.*?) ', nombre_paciente__).group(1)\n",
    "segundo_apellido"
   ]
  },
  {
   "cell_type": "code",
   "execution_count": 202,
   "metadata": {},
   "outputs": [
    {
     "data": {
      "text/plain": [
       "'JOSE'"
      ]
     },
     "execution_count": 202,
     "metadata": {},
     "output_type": "execute_result"
    }
   ],
   "source": [
    "primer_nombre =re.search(r'\\| \\w+\\ \\w+\\ (.*?) ', nombre_paciente__).group(1)\n",
    "primer_nombre"
   ]
  },
  {
   "cell_type": "code",
   "execution_count": 203,
   "metadata": {},
   "outputs": [
    {
     "data": {
      "text/plain": [
       "'101587'"
      ]
     },
     "execution_count": 203,
     "metadata": {},
     "output_type": "execute_result"
    }
   ],
   "source": [
    "segundo_nombre =re.search(r'\\| \\w+\\ \\w+\\ \\w+ (.*?) ', nombre_paciente__).group(1)\n",
    "segundo_nombre"
   ]
  },
  {
   "cell_type": "code",
   "execution_count": 204,
   "metadata": {},
   "outputs": [
    {
     "data": {
      "text/plain": [
       "'JOSE 101587 RAMIREZ MONCADA'"
      ]
     },
     "execution_count": 204,
     "metadata": {},
     "output_type": "execute_result"
    }
   ],
   "source": [
    "nombre_paciente=primer_nombre+\" \"+segundo_nombre+\" \"+primer_apellido+\" \"+segundo_apellido\n",
    "nombre_paciente"
   ]
  },
  {
   "cell_type": "code",
   "execution_count": null,
   "metadata": {
    "collapsed": true
   },
   "outputs": [],
   "source": [
    "########"
   ]
  },
  {
   "cell_type": "code",
   "execution_count": 29,
   "metadata": {},
   "outputs": [
    {
     "data": {
      "text/plain": [
       "'$337,497.13'"
      ]
     },
     "execution_count": 29,
     "metadata": {},
     "output_type": "execute_result"
    }
   ],
   "source": [
    "subtotal=re.search(r'\\nSublotal ; (.*?)\\nDes',str1).group(1)\n",
    "subtotal"
   ]
  },
  {
   "cell_type": "code",
   "execution_count": 30,
   "metadata": {},
   "outputs": [
    {
     "data": {
      "text/plain": [
       "'-$100,397.13'"
      ]
     },
     "execution_count": 30,
     "metadata": {},
     "output_type": "execute_result"
    }
   ],
   "source": [
    "descuento=re.search(r'\\nDescuento total: (.*?)\\nTot',str1).group(1)\n",
    "descuento"
   ]
  },
  {
   "cell_type": "code",
   "execution_count": 35,
   "metadata": {},
   "outputs": [
    {
     "data": {
      "text/plain": [
       "'$4,337.60'"
      ]
     },
     "execution_count": 35,
     "metadata": {},
     "output_type": "execute_result"
    }
   ],
   "source": [
    "IVA=re.search(r'\\nTotal IVA : (.*?)\\n',str1).group(1)\n",
    "IVA"
   ]
  },
  {
   "cell_type": "code",
   "execution_count": 227,
   "metadata": {},
   "outputs": [
    {
     "data": {
      "text/plain": [
       "'LIMIMENTO FORZ SPORT SPRAY FC, FLEXIMAX ACE 325 MG+4 MG CAJA, FENALGEX 323 HG*3 MG CAJA X 1'"
      ]
     },
     "execution_count": 227,
     "metadata": {},
     "output_type": "execute_result"
    }
   ],
   "source": [
    "medicamentos_=re.compile(r'\\w+ —— (.*?)\\n')\n",
    "medicamentos__=medicamentos_.findall(str1)\n",
    "#medicamentos__\n",
    "medicamentos = ', '.join(medicamentos__)\n",
    "medicamentos"
   ]
  },
  {
   "cell_type": "code",
   "execution_count": 83,
   "metadata": {},
   "outputs": [
    {
     "data": {
      "text/plain": [
       "['27,840.00', '202,229.00', '132,427,00']"
      ]
     },
     "execution_count": 83,
     "metadata": {},
     "output_type": "execute_result"
    }
   ],
   "source": [
    "valores_medicamentos_=re.compile(r'\\ \\$(.*?)\\n')\n",
    "valores_medicamentos__=valores_medicamentos_.findall(str1)\n",
    "valores_medicamentos__[:3]"
   ]
  },
  {
   "cell_type": "code",
   "execution_count": 91,
   "metadata": {},
   "outputs": [
    {
     "data": {
      "text/plain": [
       "'01/03/2019'"
      ]
     },
     "execution_count": 91,
     "metadata": {},
     "output_type": "execute_result"
    }
   ],
   "source": [
    "fecha_factura_=re.search(r'\\nFecha(.*?)\\n', str1).group(1)\n",
    "fecha_factura=re.search(r'\\ (.*?) ', fecha_factura_).group(1)\n",
    "fecha_factura"
   ]
  },
  {
   "cell_type": "code",
   "execution_count": 97,
   "metadata": {},
   "outputs": [
    {
     "data": {
      "text/plain": [
       "('01/03/2019', '01/03/2019', '01/03/2019')"
      ]
     },
     "execution_count": 97,
     "metadata": {},
     "output_type": "execute_result"
    }
   ],
   "source": [
    "fecha_ingreso=fecha_factura\n",
    "fecha_egreso=fecha_ingreso\n",
    "fecha_factura, fecha_ingreso, fecha_egreso"
   ]
  },
  {
   "cell_type": "code",
   "execution_count": 177,
   "metadata": {},
   "outputs": [],
   "source": [
    "numero_factura_=re.search(r'\\ Factura(.*?)\\n', str1).group(0)\n",
    "numero_factura=re.search(r'\\ \\w+\\ \\w+\\ (.*?)\\n',numero_factura_).group(1)"
   ]
  },
  {
   "cell_type": "code",
   "execution_count": 180,
   "metadata": {},
   "outputs": [
    {
     "data": {
      "text/plain": [
       "' Factura Nos 0411 315178\\n'"
      ]
     },
     "execution_count": 180,
     "metadata": {},
     "output_type": "execute_result"
    }
   ],
   "source": [
    "numero_factura_"
   ]
  },
  {
   "cell_type": "code",
   "execution_count": 181,
   "metadata": {},
   "outputs": [
    {
     "data": {
      "text/plain": [
       "'0411 315178'"
      ]
     },
     "execution_count": 181,
     "metadata": {},
     "output_type": "execute_result"
    }
   ],
   "source": [
    "numero_factura "
   ]
  },
  {
   "cell_type": "code",
   "execution_count": 205,
   "metadata": {},
   "outputs": [],
   "source": [
    "import pandas as pd"
   ]
  },
  {
   "cell_type": "code",
   "execution_count": 234,
   "metadata": {},
   "outputs": [
    {
     "data": {
      "text/html": [
       "<div>\n",
       "<style scoped>\n",
       "    .dataframe tbody tr th:only-of-type {\n",
       "        vertical-align: middle;\n",
       "    }\n",
       "\n",
       "    .dataframe tbody tr th {\n",
       "        vertical-align: top;\n",
       "    }\n",
       "\n",
       "    .dataframe thead th {\n",
       "        text-align: right;\n",
       "    }\n",
       "</style>\n",
       "<table border=\"1\" class=\"dataframe\">\n",
       "  <thead>\n",
       "    <tr style=\"text-align: right;\">\n",
       "      <th></th>\n",
       "      <th>nombre drogueria</th>\n",
       "      <th>identificacion drogueria</th>\n",
       "      <th>numero drogueria</th>\n",
       "      <th>nombre paciente</th>\n",
       "      <th>identificacion paciente</th>\n",
       "      <th>numero paciente</th>\n",
       "      <th>subtotal</th>\n",
       "      <th>descuento</th>\n",
       "      <th>IVA</th>\n",
       "      <th>medicamentos</th>\n",
       "      <th>fecha factura</th>\n",
       "      <th>fecha ingreso</th>\n",
       "      <th>fecha egreso</th>\n",
       "      <th>numero factura</th>\n",
       "    </tr>\n",
       "  </thead>\n",
       "  <tbody>\n",
       "    <tr>\n",
       "      <th>0</th>\n",
       "      <td>EOTICA JUNIN LA PLAYA X SUCRE</td>\n",
       "      <td>NIT</td>\n",
       "      <td>Nit: 9209221131</td>\n",
       "      <td>JOSE 101587 RAMIREZ MONCADA</td>\n",
       "      <td>Cedula</td>\n",
       "      <td>3.355.414</td>\n",
       "      <td>$337,497.13</td>\n",
       "      <td>-$100,397.13</td>\n",
       "      <td>$4,337.60</td>\n",
       "      <td>LIMIMENTO FORZ SPORT SPRAY FC, FLEXIMAX ACE 32...</td>\n",
       "      <td>01/03/2019</td>\n",
       "      <td>01/03/2019</td>\n",
       "      <td>01/03/2019</td>\n",
       "      <td>0411 315178</td>\n",
       "    </tr>\n",
       "  </tbody>\n",
       "</table>\n",
       "</div>"
      ],
      "text/plain": [
       "                nombre drogueria identificacion drogueria numero drogueria  \\\n",
       "0  EOTICA JUNIN LA PLAYA X SUCRE                      NIT  Nit: 9209221131   \n",
       "\n",
       "               nombre paciente identificacion paciente numero paciente  \\\n",
       "0  JOSE 101587 RAMIREZ MONCADA                  Cedula       3.355.414   \n",
       "\n",
       "      subtotal     descuento        IVA  \\\n",
       "0  $337,497.13  -$100,397.13  $4,337.60   \n",
       "\n",
       "                                        medicamentos fecha factura  \\\n",
       "0  LIMIMENTO FORZ SPORT SPRAY FC, FLEXIMAX ACE 32...    01/03/2019   \n",
       "\n",
       "  fecha ingreso fecha egreso numero factura  \n",
       "0    01/03/2019   01/03/2019    0411 315178  "
      ]
     },
     "execution_count": 234,
     "metadata": {},
     "output_type": "execute_result"
    }
   ],
   "source": [
    "df=pd.DataFrame({'nombre drogueria':[nombre_droguería],'identificacion drogueria':[tipo_de_identificación_drogueria],'numero drogueria':[m], 'nombre paciente':[nombre_paciente], 'identificacion paciente':[tipo_de_identificacion_paciente], 'numero paciente':[cedula],'subtotal':[subtotal], 'descuento':[descuento], 'IVA':[IVA], 'medicamentos':[medicamentos], 'fecha factura':[fecha_factura], 'fecha ingreso':[fecha_ingreso],'fecha egreso':[fecha_egreso],'numero factura':[numero_factura],})\n",
    "df"
   ]
  },
  {
   "cell_type": "code",
   "execution_count": 235,
   "metadata": {},
   "outputs": [],
   "source": [
    "df.to_csv('prueba_facturas.csv', index=False)"
   ]
  },
  {
   "cell_type": "code",
   "execution_count": null,
   "metadata": {},
   "outputs": [],
   "source": [
    "########"
   ]
  }
 ],
 "metadata": {
  "kernelspec": {
   "display_name": "Python 3",
   "language": "python",
   "name": "python3"
  },
  "language_info": {
   "codemirror_mode": {
    "name": "ipython",
    "version": 3
   },
   "file_extension": ".py",
   "mimetype": "text/x-python",
   "name": "python",
   "nbconvert_exporter": "python",
   "pygments_lexer": "ipython3",
   "version": "3.7.3"
  }
 },
 "nbformat": 4,
 "nbformat_minor": 2
}
